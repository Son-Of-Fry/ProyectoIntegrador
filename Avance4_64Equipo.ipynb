{
  "cells": [
    {
      "cell_type": "markdown",
      "metadata": {
        "id": "view-in-github",
        "colab_type": "text"
      },
      "source": [
        "<a href=\"https://colab.research.google.com/github/Son-Of-Fry/ProyectoIntegrador/blob/main/Avance4_64Equipo.ipynb\" target=\"_parent\"><img src=\"https://colab.research.google.com/assets/colab-badge.svg\" alt=\"Open In Colab\"/></a>"
      ]
    },
    {
      "cell_type": "markdown",
      "id": "edf69b2c-5aa1-42d0-bd7d-46032bc80433",
      "metadata": {
        "id": "edf69b2c-5aa1-42d0-bd7d-46032bc80433"
      },
      "source": [
        "# Modelos alternativos\n",
        "Está parte del proyecto tiene como objetivo evaluar y comparar el rendimiento de diferentes variantes de los modelos **YOLOv8** y **YOLOv11**, incluyendo sus versiones *n, s, m, l, x*.\n",
        "\n",
        "El análisis se realiza usando un mismo video de entrada y fragmento temporal, midiendo tanto la velocidad como el uso de recursos computacionales.\n",
        "\n",
        "Para este proyeto, se lolicitó el desarrollo con Modelo de Yolo, esto por su licencia de uso Libre. El usar otro tipo de Modelos con lincencia o coste, pone en riesgo el objetivo puntual del proyecto.\n",
        "\n",
        "Para cada modelo, se registrán métricas como:\n",
        "\n",
        "* **FPS** (cuadros por segundo procesados)\n",
        "* **Tiempo promedio por frame** (ms)\n",
        "* **Total de detecciones**\n",
        "* **Promedio de detecciones por frame**\n",
        "* **Uso de RAM (GB)**\n",
        "* **Uso de VRAM promedio y pico (MB)**\n",
        "* **Uso promedio de GPU (%)**\n",
        "\n",
        "El objetivo es identificar qué versión ofrece el mejor balance entre rendimiento y eficiencia.\n"
      ]
    },
    {
      "cell_type": "code",
      "execution_count": null,
      "id": "08d350ef-a2b5-4d4b-b25e-1840146d8a14",
      "metadata": {
        "id": "08d350ef-a2b5-4d4b-b25e-1840146d8a14",
        "outputId": "6ee2f43c-efa2-46f0-8c09-818d38489032"
      },
      "outputs": [
        {
          "name": "stdout",
          "output_type": "stream",
          "text": [
            "Sun Oct 19 15:43:21 2025       \n",
            "+---------------------------------------------------------------------------------------+\n",
            "| NVIDIA-SMI 535.274.02             Driver Version: 535.274.02   CUDA Version: 12.2     |\n",
            "|-----------------------------------------+----------------------+----------------------+\n",
            "| GPU  Name                 Persistence-M | Bus-Id        Disp.A | Volatile Uncorr. ECC |\n",
            "| Fan  Temp   Perf          Pwr:Usage/Cap |         Memory-Usage | GPU-Util  Compute M. |\n",
            "|                                         |                      |               MIG M. |\n",
            "|=========================================+======================+======================|\n",
            "|   0  NVIDIA GeForce RTX 4070 ...    Off | 00000000:01:00.0 Off |                  N/A |\n",
            "| N/A   39C    P0              N/A /  55W |      8MiB /  8188MiB |      0%      Default |\n",
            "|                                         |                      |                  N/A |\n",
            "+-----------------------------------------+----------------------+----------------------+\n",
            "                                                                                         \n",
            "+---------------------------------------------------------------------------------------+\n",
            "| Processes:                                                                            |\n",
            "|  GPU   GI   CI        PID   Type   Process name                            GPU Memory |\n",
            "|        ID   ID                                                             Usage      |\n",
            "|=======================================================================================|\n",
            "|    0   N/A  N/A      2123      G   /usr/lib/xorg/Xorg                            4MiB |\n",
            "+---------------------------------------------------------------------------------------+\n"
          ]
        }
      ],
      "source": [
        "!nvidia-smi"
      ]
    },
    {
      "cell_type": "markdown",
      "id": "9affc766-e8a4-4a0d-a6ec-a9fcdea2c6c8",
      "metadata": {
        "id": "9affc766-e8a4-4a0d-a6ec-a9fcdea2c6c8"
      },
      "source": [
        "### Entorno de hardware utilizado\n",
        "\n",
        "El comparativo se ejecutó en un equipo con la siguiente configuración:\n",
        "\n",
        "* **GPU**: NVIDIA GeForce RTX 4070\n",
        "* **CUDA Version**: 12.2\n",
        "* **VRAM disponible**: 8 GB\n",
        "* **Driver**: 535.274.02\n",
        "* **Temperatura idle**: ~39°C\n",
        "* **GPU Utilización inicial**: 0%\n",
        "\n",
        "Este entorno permite pruebas realistas de modelos de detección en tiempo real y tareas intensivas en computación. Sin embargo, se usará un video recortado para que la prueba sea la misma."
      ]
    },
    {
      "cell_type": "code",
      "execution_count": null,
      "id": "17234881-fb38-4533-81c2-c3d8ef795289",
      "metadata": {
        "id": "17234881-fb38-4533-81c2-c3d8ef795289"
      },
      "outputs": [],
      "source": [
        "import cv2\n",
        "import time\n",
        "import torch\n",
        "import psutil\n",
        "import GPUtil\n",
        "import pandas as pd\n",
        "from pynvml import nvmlInit, nvmlShutdown, nvmlDeviceGetHandleByIndex, nvmlDeviceGetPowerUsage, nvmlDeviceGetTemperature, NVML_TEMPERATURE_GPU\n",
        "from ultralytics import YOLO\n",
        "from tqdm import tqdm\n",
        "\n",
        "# --- Inicializar NVML para acceso a temperatura y consumo ---\n",
        "#Esto activa el acceso a métricas de la GPU (consumo de energía, temperatura, uso de VRAM) usando la interfaz NVML (NVIDIA Management Library).\n",
        "#Se selecciona la primera GPU (index 0), común en sistemas de una sola tarjeta gráfica.\n",
        "\n",
        "\n",
        "nvmlInit()\n",
        "device_handle = nvmlDeviceGetHandleByIndex(0)\n",
        "\n",
        "#Configuración global\n",
        "VIDEO_PATH = \"zocalo.mp4\" #Video del Zocalo de la ciudad de México.\n",
        "START_SEC = 10\n",
        "END_SEC = 20\n",
        "MODEL_VARIANTS = [\n",
        "    \"yolov8n.pt\", \"yolov8s.pt\", \"yolov8m.pt\", \"yolov8l.pt\", \"yolov8x.pt\",\n",
        "    \"yolo11n.pt\", \"yolo11s.pt\", \"yolo11m.pt\", \"yolo11l.pt\", \"yolo11x.pt\",\n",
        "]\n",
        "\n",
        "#  Obtener info del video\n",
        "cap = cv2.VideoCapture(VIDEO_PATH)\n",
        "fps = cap.get(cv2.CAP_PROP_FPS)\n",
        "width = int(cap.get(cv2.CAP_PROP_FRAME_WIDTH))\n",
        "height = int(cap.get(cv2.CAP_PROP_FRAME_HEIGHT))\n",
        "start_frame = int(START_SEC * fps)\n",
        "end_frame = int(END_SEC * fps)\n",
        "total_frames = end_frame - start_frame\n",
        "cap.release()\n"
      ]
    },
    {
      "cell_type": "markdown",
      "source": [
        "\n"
      ],
      "metadata": {
        "id": "cgNtXZI9pJ2V"
      },
      "id": "cgNtXZI9pJ2V"
    },
    {
      "cell_type": "code",
      "execution_count": null,
      "id": "7970c33d-d242-4312-b7c4-dcc0d6b2c2d6",
      "metadata": {
        "id": "7970c33d-d242-4312-b7c4-dcc0d6b2c2d6"
      },
      "outputs": [],
      "source": [
        "# Funciones de medición\n",
        "\n",
        "\n",
        "#Esta función devuelve la memoria RAM utilizada por el sistema en gigabytes (GB) en el momento de su ejecución.\n",
        "#Se utiliza para medir el impacto de cada modelo sobre la RAM antes y después del procesamiento.\n",
        "def get_ram_usage():\n",
        "    return psutil.virtual_memory().used / (1024**3)\n",
        "\n",
        "\n",
        "#Esta función recoge cinco métricas clave de la GPU mediante GPUtil y pynvml:\n",
        "# gpu.memoryUsed:\tMemoria de video (VRAM) utilizada en MB\n",
        "# gpu.memoryUtil:\tPorcentaje de uso de memoria de video\n",
        "# gpu.load:\tCarga de procesamiento de la GPU (%)\n",
        "# power:\tConsumo energético en watts (W)\n",
        "# temp:\tTemperatura de la GPU en grados Celsius (°C)\n",
        "\n",
        "\n",
        "def get_gpu_stats():\n",
        "    gpus = GPUtil.getGPUs()\n",
        "    if gpus:\n",
        "        gpu = gpus[0]#\n",
        "        power = nvmlDeviceGetPowerUsage(device_handle) / 1000  # mW to W\n",
        "        temp = nvmlDeviceGetTemperature(device_handle, NVML_TEMPERATURE_GPU) #\n",
        "        return gpu.memoryUsed, gpu.memoryUtil * 100, gpu.load * 100, power, temp\n",
        "    return 0, 0, 0, 0, 0\n",
        "\n",
        "# DF para contabilizar resultados\n",
        "results_data = []\n",
        "\n"
      ]
    },
    {
      "cell_type": "code",
      "execution_count": null,
      "id": "fdbe85aa-069c-4a0a-9113-be1ca9d8eb69",
      "metadata": {
        "id": "fdbe85aa-069c-4a0a-9113-be1ca9d8eb69",
        "outputId": "e73d2b04-a109-4e8f-d6c8-b257ed1928c3"
      },
      "outputs": [
        {
          "name": "stdout",
          "output_type": "stream",
          "text": [
            "\n",
            "Evaluando: yolov8n.pt\n"
          ]
        },
        {
          "name": "stderr",
          "output_type": "stream",
          "text": [
            "yolov8n.pt: 100%|████████████████████████████████████████████████████████████████████████████████████████████████████████████████████████████████████| 599/599 [01:23<00:00,  7.19it/s]\n"
          ]
        },
        {
          "name": "stdout",
          "output_type": "stream",
          "text": [
            "Duración: 83.31 s\n",
            "FPS: 7.19\n",
            "Tiempo por frame: 139.08 ms\n",
            "Total detecciones: 16416\n",
            "Promedio por frame: 27.41\n",
            "RAM usada: 0.40 GB\n",
            "VRAM promedio: 221.00 MB\n",
            "VRAM pico: 221.00 MB\n",
            "GPU uso promedio: 2.62 %\n",
            "Potencia promedio: 10.27 W\n",
            "Temperatura promedio: 37.02 °C\n",
            "Video guardado: out_yolov8n.mp4\n",
            "\n",
            "Evaluando: yolov8s.pt\n"
          ]
        },
        {
          "name": "stderr",
          "output_type": "stream",
          "text": [
            "yolov8s.pt: 100%|████████████████████████████████████████████████████████████████████████████████████████████████████████████████████████████████████| 599/599 [01:28<00:00,  6.78it/s]\n"
          ]
        },
        {
          "name": "stdout",
          "output_type": "stream",
          "text": [
            "Duración: 88.36 s\n",
            "FPS: 6.78\n",
            "Tiempo por frame: 147.52 ms\n",
            "Total detecciones: 20669\n",
            "Promedio por frame: 34.51\n",
            "RAM usada: 0.05 GB\n",
            "VRAM promedio: 271.00 MB\n",
            "VRAM pico: 271.00 MB\n",
            "GPU uso promedio: 3.70 %\n",
            "Potencia promedio: 10.54 W\n",
            "Temperatura promedio: 36.00 °C\n",
            "Video guardado: out_yolov8s.mp4\n",
            "\n",
            "Evaluando: yolov8m.pt\n"
          ]
        },
        {
          "name": "stderr",
          "output_type": "stream",
          "text": [
            "yolov8m.pt: 100%|████████████████████████████████████████████████████████████████████████████████████████████████████████████████████████████████████| 599/599 [01:28<00:00,  6.76it/s]\n"
          ]
        },
        {
          "name": "stdout",
          "output_type": "stream",
          "text": [
            "Duración: 88.64 s\n",
            "FPS: 6.76\n",
            "Tiempo por frame: 147.98 ms\n",
            "Total detecciones: 23120\n",
            "Promedio por frame: 38.60\n",
            "RAM usada: 0.07 GB\n",
            "VRAM promedio: 421.00 MB\n",
            "VRAM pico: 421.00 MB\n",
            "GPU uso promedio: 7.10 %\n",
            "Potencia promedio: 11.43 W\n",
            "Temperatura promedio: 36.00 °C\n",
            "Video guardado: out_yolov8m.mp4\n",
            "\n",
            "Evaluando: yolov8l.pt\n"
          ]
        },
        {
          "name": "stderr",
          "output_type": "stream",
          "text": [
            "yolov8l.pt: 100%|████████████████████████████████████████████████████████████████████████████████████████████████████████████████████████████████████| 599/599 [01:28<00:00,  6.73it/s]\n"
          ]
        },
        {
          "name": "stdout",
          "output_type": "stream",
          "text": [
            "Duración: 88.99 s\n",
            "FPS: 6.73\n",
            "Tiempo por frame: 148.56 ms\n",
            "Total detecciones: 24057\n",
            "Promedio por frame: 40.16\n",
            "RAM usada: 0.04 GB\n",
            "VRAM promedio: 597.00 MB\n",
            "VRAM pico: 597.00 MB\n",
            "GPU uso promedio: 11.06 %\n",
            "Potencia promedio: 12.59 W\n",
            "Temperatura promedio: 36.16 °C\n",
            "Video guardado: out_yolov8l.mp4\n",
            "\n",
            "Evaluando: yolov8x.pt\n"
          ]
        },
        {
          "name": "stderr",
          "output_type": "stream",
          "text": [
            "yolov8x.pt: 100%|████████████████████████████████████████████████████████████████████████████████████████████████████████████████████████████████████| 599/599 [01:31<00:00,  6.56it/s]\n"
          ]
        },
        {
          "name": "stdout",
          "output_type": "stream",
          "text": [
            "Duración: 91.32 s\n",
            "FPS: 6.56\n",
            "Tiempo por frame: 152.45 ms\n",
            "Total detecciones: 26651\n",
            "Promedio por frame: 44.49\n",
            "RAM usada: -0.01 GB\n",
            "VRAM promedio: 899.00 MB\n",
            "VRAM pico: 899.00 MB\n",
            "GPU uso promedio: 16.90 %\n",
            "Potencia promedio: 13.72 W\n",
            "Temperatura promedio: 37.00 °C\n",
            "Video guardado: out_yolov8x.mp4\n",
            "\n",
            "Evaluando: yolo11n.pt\n"
          ]
        },
        {
          "name": "stderr",
          "output_type": "stream",
          "text": [
            "yolo11n.pt: 100%|████████████████████████████████████████████████████████████████████████████████████████████████████████████████████████████████████| 599/599 [01:21<00:00,  7.31it/s]\n"
          ]
        },
        {
          "name": "stdout",
          "output_type": "stream",
          "text": [
            "Duración: 81.94 s\n",
            "FPS: 7.31\n",
            "Tiempo por frame: 136.79 ms\n",
            "Total detecciones: 12779\n",
            "Promedio por frame: 21.33\n",
            "RAM usada: 0.04 GB\n",
            "VRAM promedio: 939.00 MB\n",
            "VRAM pico: 939.00 MB\n",
            "GPU uso promedio: 2.59 %\n",
            "Potencia promedio: 10.20 W\n",
            "Temperatura promedio: 36.08 °C\n",
            "Video guardado: out_yolo11n.mp4\n",
            "\n",
            "Evaluando: yolo11s.pt\n"
          ]
        },
        {
          "name": "stderr",
          "output_type": "stream",
          "text": [
            "yolo11s.pt: 100%|████████████████████████████████████████████████████████████████████████████████████████████████████████████████████████████████████| 599/599 [01:27<00:00,  6.84it/s]\n"
          ]
        },
        {
          "name": "stdout",
          "output_type": "stream",
          "text": [
            "Duración: 87.63 s\n",
            "FPS: 6.84\n",
            "Tiempo por frame: 146.30 ms\n",
            "Total detecciones: 21195\n",
            "Promedio por frame: 35.38\n",
            "RAM usada: 0.14 GB\n",
            "VRAM promedio: 961.00 MB\n",
            "VRAM pico: 961.00 MB\n",
            "GPU uso promedio: 3.70 %\n",
            "Potencia promedio: 10.48 W\n",
            "Temperatura promedio: 36.00 °C\n",
            "Video guardado: out_yolo11s.mp4\n",
            "\n",
            "Evaluando: yolo11m.pt\n"
          ]
        },
        {
          "name": "stderr",
          "output_type": "stream",
          "text": [
            "yolo11m.pt: 100%|████████████████████████████████████████████████████████████████████████████████████████████████████████████████████████████████████| 599/599 [00:45<00:00, 13.25it/s]\n"
          ]
        },
        {
          "name": "stdout",
          "output_type": "stream",
          "text": [
            "Duración: 45.22 s\n",
            "FPS: 13.25\n",
            "Tiempo por frame: 75.49 ms\n",
            "Total detecciones: 19630\n",
            "Promedio por frame: 32.77\n",
            "RAM usada: 0.31 GB\n",
            "VRAM promedio: 1037.00 MB\n",
            "VRAM pico: 1037.00 MB\n",
            "GPU uso promedio: 17.06 %\n",
            "Potencia promedio: 13.28 W\n",
            "Temperatura promedio: 38.07 °C\n",
            "Video guardado: out_yolo11m.mp4\n",
            "\n",
            "Evaluando: yolo11l.pt\n"
          ]
        },
        {
          "name": "stderr",
          "output_type": "stream",
          "text": [
            "yolo11l.pt: 100%|█████████████████████████████████████████████████████████████████████████████████████████████████████████████████████| 599/599 [01:28<00:00,  6.76it/s]\n"
          ]
        },
        {
          "name": "stdout",
          "output_type": "stream",
          "text": [
            "Duración: 88.57 s\n",
            "FPS: 6.76\n",
            "Tiempo por frame: 147.86 ms\n",
            "Total detecciones: 19806\n",
            "Promedio por frame: 33.07\n",
            "RAM usada: 0.27 GB\n",
            "VRAM promedio: 1135.00 MB\n",
            "VRAM pico: 1135.00 MB\n",
            "GPU uso promedio: 7.93 %\n",
            "Potencia promedio: 11.80 W\n",
            "Temperatura promedio: 37.38 °C\n",
            "Video guardado: out_yolo11l.mp4\n",
            "\n",
            "Evaluando: yolo11x.pt\n"
          ]
        },
        {
          "name": "stderr",
          "output_type": "stream",
          "text": [
            "yolo11x.pt: 100%|█████████████████████████████████████████████████████████████████████████████████████████████████████████████████████| 599/599 [01:27<00:00,  6.84it/s]"
          ]
        },
        {
          "name": "stdout",
          "output_type": "stream",
          "text": [
            "Duración: 87.63 s\n",
            "FPS: 6.84\n",
            "Tiempo por frame: 146.29 ms\n",
            "Total detecciones: 20683\n",
            "Promedio por frame: 34.53\n",
            "RAM usada: -0.21 GB\n",
            "VRAM promedio: 1441.00 MB\n",
            "VRAM pico: 1441.00 MB\n",
            "GPU uso promedio: 14.18 %\n",
            "Potencia promedio: 13.59 W\n",
            "Temperatura promedio: 37.30 °C\n",
            "Video guardado: out_yolo11x.mp4\n"
          ]
        },
        {
          "name": "stderr",
          "output_type": "stream",
          "text": [
            "\n"
          ]
        }
      ],
      "source": [
        "#  Probar cada modelo\n",
        "\"\"\"\n",
        "Para cada modelo se realiza:\n",
        "\t•\tCarga del video desde el segundo START_SEC hasta END_SEC.\n",
        "\t•\tCarga del modelo YOLO con ultralytics.YOLO.\n",
        "\t•\tInicialización de salida de video para guardar los resultados.\n",
        "\t•\tVariables de medición de tiempo, RAM, VRAM, temperatura y potencia.\n",
        "\"\"\"\n",
        "\n",
        "for model_path in MODEL_VARIANTS:\n",
        "    print(f\"\\nEvaluando: {model_path}\")#1\n",
        "    cap = cv2.VideoCapture(VIDEO_PATH)\n",
        "    cap.set(cv2.CAP_PROP_POS_FRAMES, start_frame)\n",
        "\n",
        "    model = YOLO(model_path)#2\n",
        "    fourcc = cv2.VideoWriter_fourcc(*'mp4v') #3\n",
        "    out_path = f\"out_{model_path.replace('.pt', '')}.mp4\"\n",
        "    out = cv2.VideoWriter(out_path, fourcc, fps, (width, height))\n",
        "\n",
        "    total_detections = 0#contador\n",
        "    start_time = time.time()#temporizador\n",
        "    ram_before = get_ram_usage()\n",
        "    vram_usages, gpu_utils, powers, temps = [], [], [], []\n",
        "\n",
        "    for _ in tqdm(range(total_frames), desc=f\"{model_path}\"):# Inferencia frame a frame\n",
        "        ret, frame = cap.read()\n",
        "        if not ret:\n",
        "            break\n",
        "\n",
        "        result = model.predict(source=frame, verbose=False)[0]\n",
        "        total_detections += len(result.boxes)\n",
        "        out.write(result.plot())\n",
        "\n",
        "        vram, vram_util, gpu_util, power, temp = get_gpu_stats()#stats de la gpu\n",
        "        vram_usages.append(vram)\n",
        "        gpu_utils.append(gpu_util)\n",
        "        powers.append(power)\n",
        "        temps.append(temp)\n",
        "\n",
        "    end_time = time.time()\n",
        "    cap.release()\n",
        "    out.release()\n",
        "\n",
        "    duration = end_time - start_time\n",
        "    ram_after = get_ram_usage()\n",
        "\n",
        "    if total_frames == 0 or duration == 0:\n",
        "        print(\"Error: no se procesaron frames.\")\n",
        "        continue\n",
        "#calculo de métricas de cada frame\n",
        "    fps_result = total_frames / duration\n",
        "    ms_per_frame = 1000 * duration / total_frames\n",
        "    avg_det_per_frame = total_detections / total_frames\n",
        "    ram_used = ram_after - ram_before\n",
        "    vram_avg = sum(vram_usages) / len(vram_usages) if vram_usages else 0\n",
        "    vram_peak = max(vram_usages) if vram_usages else 0\n",
        "    gpu_util_avg = sum(gpu_utils) / len(gpu_utils) if gpu_utils else 0\n",
        "    power_avg = sum(powers) / len(powers) if powers else 0\n",
        "    temp_avg = sum(temps) / len(temps) if temps else 0\n",
        "#prints mostrando\n",
        "    print(f\"Duración: {duration:.2f} s\")\n",
        "    print(f\"FPS: {fps_result:.2f}\")\n",
        "    print(f\"Tiempo por frame: {ms_per_frame:.2f} ms\")\n",
        "    print(f\"Total detecciones: {total_detections}\")\n",
        "    print(f\"Promedio por frame: {avg_det_per_frame:.2f}\")\n",
        "    print(f\"RAM usada: {ram_used:.2f} GB\")\n",
        "    print(f\"VRAM promedio: {vram_avg:.2f} MB\")\n",
        "    print(f\"VRAM pico: {vram_peak:.2f} MB\")\n",
        "    print(f\"GPU uso promedio: {gpu_util_avg:.2f} %\")\n",
        "    print(f\"Potencia promedio: {power_avg:.2f} W\")\n",
        "    print(f\"Temperatura promedio: {temp_avg:.2f} °C\")\n",
        "    print(f\"Video guardado: {out_path}\")\n",
        "## añadir al DF de analsis final\n",
        "    results_data.append({\n",
        "        \"Modelo\": model_path,\n",
        "        \"Duración (s)\": round(duration, 2),\n",
        "        \"FPS\": round(fps_result, 2),\n",
        "        \"ms/frame\": round(ms_per_frame, 2),\n",
        "        \"Detecciones totales\": total_detections,\n",
        "        \"Detecciones por frame\": round(avg_det_per_frame, 2),\n",
        "        \"RAM usada (GB)\": round(ram_used, 2),\n",
        "        \"VRAM promedio (MB)\": round(vram_avg, 2),\n",
        "        \"VRAM pico (MB)\": round(vram_peak, 2),\n",
        "        \"GPU uso promedio (%)\": round(gpu_util_avg, 2),\n",
        "        \"Potencia promedio (W)\": round(power_avg, 2),\n",
        "        \"Temp promedio (°C)\": round(temp_avg, 2)\n",
        "    })\n"
      ]
    },
    {
      "cell_type": "code",
      "execution_count": null,
      "id": "12b2d4e0-ecca-4bdf-b4cd-2e6c70f3f784",
      "metadata": {
        "id": "12b2d4e0-ecca-4bdf-b4cd-2e6c70f3f784",
        "outputId": "2b834019-6660-46ac-d6da-faafbbd886f2"
      },
      "outputs": [
        {
          "name": "stdout",
          "output_type": "stream",
          "text": [
            "\n",
            "Resultados comparativos:\n",
            "\n",
            "    Modelo  Duración (s)   FPS  ms/frame  Detecciones totales  Detecciones por frame  RAM usada (GB)  VRAM promedio (MB)  VRAM pico (MB)  GPU uso promedio (%)  Potencia promedio (W)  Temp promedio (°C)\n",
            "yolov8n.pt         83.31  7.19    139.08                16416                  27.41            0.40               221.0           221.0                  2.62                  10.27               37.02\n",
            "yolov8s.pt         88.36  6.78    147.52                20669                  34.51            0.05               271.0           271.0                  3.70                  10.54               36.00\n",
            "yolov8m.pt         88.64  6.76    147.98                23120                  38.60            0.07               421.0           421.0                  7.10                  11.43               36.00\n",
            "yolov8l.pt         88.99  6.73    148.56                24057                  40.16            0.04               597.0           597.0                 11.06                  12.59               36.16\n",
            "yolov8x.pt         91.32  6.56    152.45                26651                  44.49           -0.01               899.0           899.0                 16.90                  13.72               37.00\n",
            "yolo11n.pt         81.94  7.31    136.79                12779                  21.33            0.04               939.0           939.0                  2.59                  10.20               36.08\n",
            "yolo11s.pt         87.63  6.84    146.30                21195                  35.38            0.14               961.0           961.0                  3.70                  10.48               36.00\n",
            "yolo11m.pt         45.22 13.25     75.49                19630                  32.77            0.31              1037.0          1037.0                 17.06                  13.28               38.07\n",
            "yolo11l.pt         88.57  6.76    147.86                19806                  33.07            0.27              1135.0          1135.0                  7.93                  11.80               37.38\n",
            "yolo11x.pt         87.63  6.84    146.29                20683                  34.53           -0.21              1441.0          1441.0                 14.18                  13.59               37.30\n"
          ]
        }
      ],
      "source": [
        "\n",
        "# --- Mostrar tabla final ---\n",
        "df = pd.DataFrame(results_data)\n",
        "print(\"\\nResultados comparativos:\\n\")\n",
        "print(df.to_string(index=False))\n",
        "# Finalizar NVML\n",
        "nvmlShutdown()\n"
      ]
    },
    {
      "cell_type": "markdown",
      "source": [
        "Conclusiones del comparativo:\n",
        "\n",
        "1.\tPrecisión: YOLOv8x.pt y YOLO11x.pt lograron más de 26,000 detecciones, siendo los más precisos. Las versiones pequeñas (v8n, v11n) detectan menos, como era esperado.\n",
        "2.\tRendimiento: Modelos ligeros (n, s) fueron los más rápidos (7.5 FPS), mientras que los más grandes (x) fueron más lentos (6.5 FPS) por su complejidad.\n",
        "3.\tRecursos: El uso de VRAM y GPU crece con el tamaño del modelo. La RAM se mantiene estable. El consumo de energía y temperatura fue bajo y constante.\n",
        "\n",
        "4.\tCaso destacado: YOLOv11m.pt duplicó el rendimiento esperado (13.25 FPS), lo que sugiere una optimización eficiente para una PC (RTX 4070)."
      ],
      "metadata": {
        "id": "1ApDCJAJsZua"
      },
      "id": "1ApDCJAJsZua"
    }
  ],
  "metadata": {
    "kernelspec": {
      "display_name": "Python 3 (ipykernel)",
      "language": "python",
      "name": "python3"
    },
    "language_info": {
      "codemirror_mode": {
        "name": "ipython",
        "version": 3
      },
      "file_extension": ".py",
      "mimetype": "text/x-python",
      "name": "python",
      "nbconvert_exporter": "python",
      "pygments_lexer": "ipython3",
      "version": "3.11.13"
    },
    "colab": {
      "provenance": [],
      "include_colab_link": true
    }
  },
  "nbformat": 4,
  "nbformat_minor": 5
}